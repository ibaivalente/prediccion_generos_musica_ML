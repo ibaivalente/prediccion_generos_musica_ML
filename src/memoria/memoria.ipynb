{
 "cells": [
  {
   "cell_type": "markdown",
   "metadata": {},
   "source": [
    "En el año 2022 se subieron de media 60 mil canciones nuevas a Spotify cada día. Las plataformas de streaming de música necesitan clasificar estas canciones en cuanto a su género para diseñar algoritmos de recomendación que se adapten lo mejor posible a los gustos de los oyentes. Si a un usuario le gusta la canción X del género Y, la plataforma debería sugerirle canciones similares y lanzar más canciones del género Y, resumiéndolo mucho.\n",
    "\n",
    "En este proyecto de machine learning he intentado diseñar un modelo que prediga el género de una canción en base a ciertas características de la misma. Partiendo de un dataset de Kaggle que contenía más de 23 mil canciones hemos entrenado varios modelos para conseguir nuestro objetivo. Este dataset clasifica cada canción en 12 variables numéricas, las cuales describen, por ejemplo, cuán bailable, energética o feliz es una canción. \n",
    "\n",
    "Después de analizar cada variable y ver que no existían valores nulos ni demasiados valores atípicos, hemos procedido a la prueba de distintos modelos de clasificación. A medida que íbamos probando modelos, nos hemos encontrado con una tónica general bastante negativa: los modelos, por lo general, tenían muchos problemas a la hora de predecir los géneros de las canciones. Después de analizar las distribuciones de las variables en cada clase nos hemos dado cuenta de que no estaban bien distinguidas entre sí. Es decir, el modelo no podía aprender patrones en los distintos géneros porque no había grandes diferencias entre ellos en cuanto a esas variables. Los géneros eran, en general, muy parecidos en cuanto a su energía, eran más o menos igual de instrumentales, etc.\n",
    "\n",
    "Sin embargo, hemos visto que en la mayoría de casos, los géneros tendían a predecir mejor algunos géneros que otros. En concreto, tenían menos problemas a la hora de acertar con rap, rock y EDM, mientras que tenían muchas dificultades con los géneros de pop, latin y R&B. Después de analizar posibles soluciones teniendo esto en cuenta, como dividir los géneros peor identificables en subgéneros, hemos llegado a la conclusión de que la mejor solución era hacer un modelo para cada uno de estos grupos. Los resultados han sido bastante positivos, ya que en ambos casos hemos conseguido mejorar las métricas de precisión.\n",
    "\n",
    "Para llevar esto a cabo, hemos necesitado diseñar un modelo que dividiera las canciones entre estos dos grandes grupos y después metiera cada canción en su modelo correspondiente para predecir su género."
   ]
  }
 ],
 "metadata": {
  "language_info": {
   "name": "python"
  }
 },
 "nbformat": 4,
 "nbformat_minor": 2
}
